{
 "cells": [
  {
   "cell_type": "markdown",
   "metadata": {},
   "source": [
    "<h3>1. Import module yang dibutuhkan</h3>"
   ]
  },
  {
   "cell_type": "code",
   "execution_count": 1,
   "metadata": {},
   "outputs": [],
   "source": [
    "from sklearn.model_selection import train_test_split\n",
    "from sklearn.preprocessing import LabelEncoder\n",
    "from sklearn.metrics import classification_report\n",
    "from tensorflow.keras.models import Sequential\n",
    "from tensorflow.keras.layers import InputLayer, Flatten, Dense, Conv2D, MaxPool2D, Dropout\n",
    "from tensorflow.keras.optimizers import Adam\n",
    "import numpy as np\n",
    "import cv2\n",
    "import glob\n",
    "import matplotlib.pyplot as plt"
   ]
  },
  {
   "cell_type": "markdown",
   "metadata": {},
   "source": [
    "<h3>2. Load Dataset</h3>"
   ]
  },
  {
   "cell_type": "code",
   "execution_count": 2,
   "metadata": {},
   "outputs": [],
   "source": [
    "imagePaths = 'Dataset\\\\'\n",
    "label_list = ['NANGKA', 'SIRIH']\n",
    "data = []\n",
    "labels = []"
   ]
  },
  {
   "cell_type": "code",
   "execution_count": 3,
   "metadata": {},
   "outputs": [],
   "source": [
    "for label in label_list:\n",
    "    for imagePath in glob.glob(imagePaths+label+'\\\\*.jpg'):\n",
    "        #print(imagePath)\n",
    "        image = cv2.imread(imagePath)\n",
    "        image = cv2.resize(image, (32, 32))\n",
    "        data.append(image)\n",
    "        labels.append(label)"
   ]
  },
  {
   "cell_type": "code",
   "execution_count": 4,
   "metadata": {},
   "outputs": [
    {
     "data": {
      "text/plain": [
       "(100, 32, 32, 3)"
      ]
     },
     "execution_count": 4,
     "metadata": {},
     "output_type": "execute_result"
    }
   ],
   "source": [
    "np.array(data).shape"
   ]
  },
  {
   "cell_type": "markdown",
   "metadata": {},
   "source": [
    "<h3>3. Data Preprocessing</h3>"
   ]
  },
  {
   "cell_type": "code",
   "execution_count": 5,
   "metadata": {},
   "outputs": [],
   "source": [
    "# ubah type data dari list menjadi array\n",
    "# ubah nilai dari tiap pixel menjadi range [0..1]\n",
    "data = np.array(data, dtype='float') / 255.0\n",
    "labels = np.array(labels)"
   ]
  },
  {
   "cell_type": "code",
   "execution_count": 6,
   "metadata": {},
   "outputs": [
    {
     "name": "stdout",
     "output_type": "stream",
     "text": [
      "['NANGKA' 'NANGKA' 'NANGKA' 'NANGKA' 'NANGKA' 'NANGKA' 'NANGKA' 'NANGKA'\n",
      " 'NANGKA' 'NANGKA' 'NANGKA' 'NANGKA' 'NANGKA' 'NANGKA' 'NANGKA' 'NANGKA'\n",
      " 'NANGKA' 'NANGKA' 'NANGKA' 'NANGKA' 'NANGKA' 'NANGKA' 'NANGKA' 'NANGKA'\n",
      " 'NANGKA' 'NANGKA' 'NANGKA' 'NANGKA' 'NANGKA' 'NANGKA' 'NANGKA' 'NANGKA'\n",
      " 'NANGKA' 'NANGKA' 'NANGKA' 'NANGKA' 'NANGKA' 'NANGKA' 'NANGKA' 'NANGKA'\n",
      " 'NANGKA' 'NANGKA' 'NANGKA' 'NANGKA' 'NANGKA' 'NANGKA' 'NANGKA' 'NANGKA'\n",
      " 'NANGKA' 'NANGKA' 'SIRIH' 'SIRIH' 'SIRIH' 'SIRIH' 'SIRIH' 'SIRIH' 'SIRIH'\n",
      " 'SIRIH' 'SIRIH' 'SIRIH' 'SIRIH' 'SIRIH' 'SIRIH' 'SIRIH' 'SIRIH' 'SIRIH'\n",
      " 'SIRIH' 'SIRIH' 'SIRIH' 'SIRIH' 'SIRIH' 'SIRIH' 'SIRIH' 'SIRIH' 'SIRIH'\n",
      " 'SIRIH' 'SIRIH' 'SIRIH' 'SIRIH' 'SIRIH' 'SIRIH' 'SIRIH' 'SIRIH' 'SIRIH'\n",
      " 'SIRIH' 'SIRIH' 'SIRIH' 'SIRIH' 'SIRIH' 'SIRIH' 'SIRIH' 'SIRIH' 'SIRIH'\n",
      " 'SIRIH' 'SIRIH' 'SIRIH' 'SIRIH' 'SIRIH' 'SIRIH' 'SIRIH']\n"
     ]
    }
   ],
   "source": [
    "print(labels)"
   ]
  },
  {
   "cell_type": "code",
   "execution_count": 7,
   "metadata": {},
   "outputs": [
    {
     "name": "stdout",
     "output_type": "stream",
     "text": [
      "[0 0 0 0 0 0 0 0 0 0 0 0 0 0 0 0 0 0 0 0 0 0 0 0 0 0 0 0 0 0 0 0 0 0 0 0 0\n",
      " 0 0 0 0 0 0 0 0 0 0 0 0 0 1 1 1 1 1 1 1 1 1 1 1 1 1 1 1 1 1 1 1 1 1 1 1 1\n",
      " 1 1 1 1 1 1 1 1 1 1 1 1 1 1 1 1 1 1 1 1 1 1 1 1 1 1]\n"
     ]
    }
   ],
   "source": [
    "# ubah nilai dari labels menjadi binary\n",
    "lb = LabelEncoder()\n",
    "labels = lb.fit_transform(labels)\n",
    "print(labels)"
   ]
  },
  {
   "cell_type": "markdown",
   "metadata": {},
   "source": [
    "<h3>4. Split Dataset</h3>"
   ]
  },
  {
   "cell_type": "code",
   "execution_count": 8,
   "metadata": {},
   "outputs": [],
   "source": [
    "x_train, x_test, y_train, y_test = train_test_split(data, labels, test_size=0.2, random_state=42)"
   ]
  },
  {
   "cell_type": "code",
   "execution_count": 9,
   "metadata": {},
   "outputs": [
    {
     "name": "stdout",
     "output_type": "stream",
     "text": [
      "Ukuran data train = (80, 32, 32, 3)\n",
      "Ukuran data test = (20, 32, 32, 3)\n"
     ]
    }
   ],
   "source": [
    "print('Ukuran data train =', x_train.shape)\n",
    "print('Ukuran data test =', x_test.shape)"
   ]
  },
  {
   "cell_type": "markdown",
   "metadata": {},
   "source": [
    "<h3>5. Build CNN Architecture</h3>"
   ]
  },
  {
   "cell_type": "code",
   "execution_count": 10,
   "metadata": {},
   "outputs": [],
   "source": [
    "model = Sequential()\n",
    "# Extracted Feature Layer\n",
    "model.add(InputLayer(input_shape=[32,32,3]))\n",
    "model.add(Conv2D(filters=32, kernel_size=2, strides=1, padding='same', activation='relu'))\n",
    "model.add(MaxPool2D(pool_size=2, padding='same'))\n",
    "model.add(Conv2D(filters=50, kernel_size=2, strides=1, padding='same', activation='relu'))\n",
    "model.add(MaxPool2D(pool_size=2, padding='same'))\n",
    "model.add(Dropout(0.25))\n",
    "model.add(Flatten())\n",
    "# Fully Connected Layer\n",
    "model.add(Dense(512, activation='relu'))\n",
    "model.add(Dropout(0.5))\n",
    "model.add(Dense(1, activation='sigmoid'))"
   ]
  },
  {
   "cell_type": "code",
   "execution_count": 11,
   "metadata": {},
   "outputs": [
    {
     "name": "stdout",
     "output_type": "stream",
     "text": [
      "Model: \"sequential\"\n",
      "_________________________________________________________________\n",
      " Layer (type)                Output Shape              Param #   \n",
      "=================================================================\n",
      " conv2d (Conv2D)             (None, 32, 32, 32)        416       \n",
      "                                                                 \n",
      " max_pooling2d (MaxPooling2D  (None, 16, 16, 32)       0         \n",
      " )                                                               \n",
      "                                                                 \n",
      " conv2d_1 (Conv2D)           (None, 16, 16, 50)        6450      \n",
      "                                                                 \n",
      " max_pooling2d_1 (MaxPooling  (None, 8, 8, 50)         0         \n",
      " 2D)                                                             \n",
      "                                                                 \n",
      " dropout (Dropout)           (None, 8, 8, 50)          0         \n",
      "                                                                 \n",
      " flatten (Flatten)           (None, 3200)              0         \n",
      "                                                                 \n",
      " dense (Dense)               (None, 512)               1638912   \n",
      "                                                                 \n",
      " dropout_1 (Dropout)         (None, 512)               0         \n",
      "                                                                 \n",
      " dense_1 (Dense)             (None, 1)                 513       \n",
      "                                                                 \n",
      "=================================================================\n",
      "Total params: 1,646,291\n",
      "Trainable params: 1,646,291\n",
      "Non-trainable params: 0\n",
      "_________________________________________________________________\n"
     ]
    }
   ],
   "source": [
    "model.summary()"
   ]
  },
  {
   "cell_type": "code",
   "execution_count": 12,
   "metadata": {},
   "outputs": [],
   "source": [
    "# tentukan hyperparameter\n",
    "lr = 0.001\n",
    "max_epochs = 100\n",
    "opt_funct = Adam(learning_rate=lr)"
   ]
  },
  {
   "cell_type": "code",
   "execution_count": 13,
   "metadata": {},
   "outputs": [],
   "source": [
    "# compile arsitektur yang telah dibuat\n",
    "model.compile(loss = 'binary_crossentropy', \n",
    "              optimizer = opt_funct, \n",
    "              metrics = ['accuracy'])"
   ]
  },
  {
   "cell_type": "markdown",
   "metadata": {},
   "source": [
    "<h3>6. Train Model</h3>"
   ]
  },
  {
   "cell_type": "code",
   "execution_count": null,
   "metadata": {},
   "outputs": [
    {
     "name": "stdout",
     "output_type": "stream",
     "text": [
      "Epoch 1/100\n",
      "3/3 [==============================] - 20s 8s/step - loss: 0.6195 - accuracy: 0.6375 - val_loss: 0.8444 - val_accuracy: 0.6000\n",
      "Epoch 2/100\n",
      "3/3 [==============================] - 14s 7s/step - loss: 0.7488 - accuracy: 0.6250 - val_loss: 0.6002 - val_accuracy: 0.4000\n",
      "Epoch 3/100\n",
      "3/3 [==============================] - 15s 8s/step - loss: 0.4480 - accuracy: 0.7875 - val_loss: 0.2592 - val_accuracy: 0.9000\n",
      "Epoch 4/100\n",
      "3/3 [==============================] - 17s 8s/step - loss: 0.2718 - accuracy: 0.9000 - val_loss: 0.1970 - val_accuracy: 1.0000\n",
      "Epoch 5/100\n",
      "3/3 [==============================] - 15s 7s/step - loss: 0.2172 - accuracy: 0.9500 - val_loss: 0.1390 - val_accuracy: 1.0000\n",
      "Epoch 6/100\n",
      "3/3 [==============================] - ETA: 0s - loss: 0.1672 - accuracy: 0.9750"
     ]
    }
   ],
   "source": [
    "H = model.fit(x_train, y_train, validation_data=(x_test, y_test), \n",
    "          epochs=max_epochs, batch_size=32)"
   ]
  },
  {
   "cell_type": "code",
   "execution_count": null,
   "metadata": {},
   "outputs": [],
   "source": [
    "N = np.arange(0, max_epochs)\n",
    "plt.style.use(\"ggplot\")\n",
    "plt.figure()\n",
    "plt.plot(N, H.history[\"loss\"], label=\"train_loss\")\n",
    "plt.plot(N, H.history[\"val_loss\"], label=\"val_loss\")\n",
    "#plt.plot(N, H.history[\"accuracy\"], label=\"train_acc\")\n",
    "#plt.plot(N, H.history[\"val_accuracy\"], label=\"val_acc\")\n",
    "plt.xlabel(\"Epoch #\")\n",
    "plt.legend()\n",
    "plt.show()"
   ]
  },
  {
   "cell_type": "markdown",
   "metadata": {},
   "source": [
    "<h3>7. Evaluate the Model</h3>"
   ]
  },
  {
   "cell_type": "code",
   "execution_count": null,
   "metadata": {},
   "outputs": [],
   "source": [
    "# menghitung nilai akurasi model terhadap data test\n",
    "predictions = model.predict(x_test, batch_size=32)\n",
    "target = (predictions > 0.5).astype(np.int)\n",
    "print(classification_report(y_test, target, target_names=label_list))"
   ]
  },
  {
   "cell_type": "code",
   "execution_count": null,
   "metadata": {},
   "outputs": [],
   "source": [
    "# uji model menggunakan image lain\n",
    "queryPath = imagePaths+'query_nangka.jpg'\n",
    "query = cv2.imread(queryPath)\n",
    "output = query.copy()\n",
    "query = cv2.resize(query, (32, 32))\n",
    "q = []\n",
    "q.append(query)\n",
    "q = np.array(q, dtype='float') / 255.0\n",
    "\n",
    "q_pred = model.predict(q)\n",
    "print(q_pred)"
   ]
  },
  {
   "cell_type": "code",
   "execution_count": null,
   "metadata": {},
   "outputs": [],
   "source": [
    "if q_pred<=0.5 :\n",
    "    target = \"DAUN NANGKA\"\n",
    "else :\n",
    "    target = \"DAUN SIRIH\"\n",
    "text = \"{}\".format(target)\n",
    "cv2.putText(output, text, (10, 30), cv2.FONT_HERSHEY_SIMPLEX, 0.7, (0, 0, 255), 2)\n",
    " \n",
    "# menampilkan output image\n",
    "cv2.imshow('Output', output)\n",
    "cv2.waitKey() # image tidak akan diclose,sebelum user menekan sembarang tombol\n",
    "cv2.destroyWindow('Output') # image akan diclose"
   ]
  },
  {
   "cell_type": "code",
   "execution_count": null,
   "metadata": {},
   "outputs": [],
   "source": [
    "model.save('nangka_sirih_class_model.h5')"
   ]
  },
  {
   "cell_type": "code",
   "execution_count": null,
   "metadata": {},
   "outputs": [],
   "source": []
  }
 ],
 "metadata": {
  "kernelspec": {
   "display_name": "Python 3 (ipykernel)",
   "language": "python",
   "name": "python3"
  },
  "language_info": {
   "codemirror_mode": {
    "name": "ipython",
    "version": 3
   },
   "file_extension": ".py",
   "mimetype": "text/x-python",
   "name": "python",
   "nbconvert_exporter": "python",
   "pygments_lexer": "ipython3",
   "version": "3.8.2"
  }
 },
 "nbformat": 4,
 "nbformat_minor": 4
}
