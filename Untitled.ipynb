{
 "cells": [
  {
   "cell_type": "code",
   "execution_count": 10,
   "id": "e66d66d7",
   "metadata": {},
   "outputs": [],
   "source": [
    "import cv2\n",
    "import numpy as np\n",
    "import glob\n"
   ]
  },
  {
   "cell_type": "code",
   "execution_count": 11,
   "id": "e18ccc7f",
   "metadata": {},
   "outputs": [],
   "source": [
    "\n",
    "imdir1 = \"Dataset/NANGKA/\"\n",
    "imdir2 = \"Dataset/SIRIH/\"\n",
    "\n"
   ]
  },
  {
   "cell_type": "code",
   "execution_count": 12,
   "id": "54979856",
   "metadata": {},
   "outputs": [],
   "source": [
    "ext = ['jpg']\n",
    "\n"
   ]
  },
  {
   "cell_type": "code",
   "execution_count": 13,
   "id": "feed989b",
   "metadata": {},
   "outputs": [
    {
     "data": {
      "text/plain": [
       "[None]"
      ]
     },
     "execution_count": 13,
     "metadata": {},
     "output_type": "execute_result"
    }
   ],
   "source": [
    "files1 = []\n",
    "files2 = []\n",
    "\n",
    "[files1.extend(glob.glob(imdir1 + '*.' + e)) for e in ext]\n",
    "[files2.extend(glob.glob(imdir2 + '*.' + e)) for e in ext]\n",
    "\n"
   ]
  },
  {
   "cell_type": "code",
   "execution_count": 9,
   "id": "943dc519",
   "metadata": {},
   "outputs": [],
   "source": [
    "images1 = [cv2.imread(file1) for file1 in files1]\n",
    "images2 = [cv2.imread(file2) for file2 in files2]\n",
    "\n"
   ]
  },
  {
   "cell_type": "code",
   "execution_count": 6,
   "id": "9d0b2b18",
   "metadata": {},
   "outputs": [],
   "source": [
    "#adjust contrast to all of them\n",
    "x = 1\n",
    "for img1 in images1:\n",
    "    img_adjusted1 = cv2.addWeighted(img1, 1.5, np.zeros(img1.shape, img1.dtype), 0, -60)\n",
    "    img_name1 = \"Dataset/update_nangka/\" + str(x) + \".jpg\"\n",
    "    cv2.imwrite(img_name1, img_adjusted1)\n",
    "    x+=1\n",
    "\n",
    "y = 1\n",
    "for img2 in images2:\n",
    "    img_adjusted2 = cv2.addWeighted(img2, 1.5, np.zeros(img2.shape, img2.dtype), 0, 5)\n",
    "    img_name2 = \"Dataset/update_sirih/\" + str(y) + \".jpg\"\n",
    "    cv2.imwrite(img_name2, img_adjusted2)\n",
    "    y+=1"
   ]
  },
  {
   "cell_type": "code",
   "execution_count": null,
   "id": "99903307",
   "metadata": {},
   "outputs": [],
   "source": []
  },
  {
   "cell_type": "code",
   "execution_count": null,
   "id": "bf779a9d",
   "metadata": {},
   "outputs": [],
   "source": []
  }
 ],
 "metadata": {
  "kernelspec": {
   "display_name": "Python 3 (ipykernel)",
   "language": "python",
   "name": "python3"
  },
  "language_info": {
   "codemirror_mode": {
    "name": "ipython",
    "version": 3
   },
   "file_extension": ".py",
   "mimetype": "text/x-python",
   "name": "python",
   "nbconvert_exporter": "python",
   "pygments_lexer": "ipython3",
   "version": "3.10.0"
  }
 },
 "nbformat": 4,
 "nbformat_minor": 5
}
